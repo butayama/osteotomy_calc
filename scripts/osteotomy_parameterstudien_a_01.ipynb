{
 "cells": [
  {
   "cell_type": "code",
   "execution_count": 31,
   "metadata": {
    "pycharm": {
     "is_executing": false
    }
   },
   "outputs": [],
   "source": [
    "import pandas as pd\n",
    "import statsmodels.api as sm\n",
    "import statsmodels.formula.api as smf\n",
    "import matplotlib.pyplot as plt\n",
    "import seaborn as sns\n",
    "import numpy as np\n",
    "color = sns.color_palette()\n",
    "%matplotlib inline"
   ]
  },
  {
   "cell_type": "code",
   "execution_count": 32,
   "metadata": {
    "pycharm": {
     "is_executing": false,
     "name": "#%%\n"
    }
   },
   "outputs": [
    {
     "data": {
      "text/plain": "array([[ 11.9  , -13.8  ],\n       [ 14.525, -13.8  ],\n       [ 17.15 , -13.8  ],\n       [ 19.775, -13.8  ],\n       [ 22.4  , -13.8  ],\n       [ 11.9  , -15.825],\n       [ 14.525, -15.825],\n       [ 17.15 , -15.825],\n       [ 19.775, -15.825],\n       [ 22.4  , -15.825],\n       [ 11.9  , -17.85 ],\n       [ 14.525, -17.85 ],\n       [ 17.15 , -17.85 ],\n       [ 19.775, -17.85 ],\n       [ 22.4  , -17.85 ],\n       [ 11.9  , -19.875],\n       [ 14.525, -19.875],\n       [ 17.15 , -19.875],\n       [ 19.775, -19.875],\n       [ 22.4  , -19.875],\n       [ 11.9  , -21.9  ],\n       [ 14.525, -21.9  ],\n       [ 17.15 , -21.9  ],\n       [ 19.775, -21.9  ],\n       [ 22.4  , -21.9  ]])"
     },
     "metadata": {},
     "output_type": "execute_result",
     "execution_count": 32
    }
   ],
   "source": [
    "nc = 5\n",
    "ns = 5\n",
    "c = np.linspace(11.9, 22.4, nc)\n",
    "s = np.linspace(-13.8, -21.9, ns)\n",
    "ncs = (len(c) * len(s))\n",
    "cc = np.tile(c, ns)\n",
    "ss = np.repeat(s, nc)\n",
    "cs_values = np.column_stack((cc,ss))\n",
    "c_a_d = 6\n",
    "s_a_d = 6\n",
    "t_a_d = 6\n",
    "cs_values\n",
    "\n",
    "\n",
    "\n"
   ]
  },
  {
   "cell_type": "code",
   "execution_count": 33,
   "outputs": [
    {
     "data": {
      "text/plain": "(array([[ 11.9  , -13.8  ],\n        [ 14.525, -13.8  ],\n        [ 17.15 , -13.8  ],\n        [ 19.775, -13.8  ],\n        [ 22.4  , -13.8  ]]),\n array([[ 11.9  , -15.825],\n        [ 14.525, -15.825],\n        [ 17.15 , -15.825],\n        [ 19.775, -15.825],\n        [ 22.4  , -15.825]]),\n array([[ 11.9  , -17.85 ],\n        [ 14.525, -17.85 ],\n        [ 17.15 , -17.85 ],\n        [ 19.775, -17.85 ],\n        [ 22.4  , -17.85 ]]),\n array([[ 11.9  , -19.875],\n        [ 14.525, -19.875],\n        [ 17.15 , -19.875],\n        [ 19.775, -19.875],\n        [ 22.4  , -19.875]]),\n array([[ 11.9  , -21.9  ],\n        [ 14.525, -21.9  ],\n        [ 17.15 , -21.9  ],\n        [ 19.775, -21.9  ],\n        [ 22.4  , -21.9  ]]))"
     },
     "metadata": {},
     "output_type": "execute_result",
     "execution_count": 33
    }
   ],
   "source": [
    "d1, d2, d3, d4, d5 = np.split(cs_values, 5)\n",
    "d1, d2, d3, d4, d5    \n",
    "\n"
   ],
   "metadata": {
    "collapsed": false,
    "pycharm": {
     "name": "#%%\n",
     "is_executing": false
    }
   }
  },
  {
   "cell_type": "code",
   "execution_count": null,
   "outputs": [],
   "source": [
    "fig = plt.figure()\n",
    "# ax = fig.add_subplot(111)\n",
    "# ax.plot(cc, ss, color='lightblue', linewidth=3)\n",
    "ax_1 = fig.add_subplot(111)\n",
    "ax_1.scatter(c, s, color='lightblue', linewidth=3)\n",
    "# h = plt.connect(cs_values[0], cs_values[1])\n",
    "\n"
   ],
   "metadata": {
    "collapsed": false,
    "pycharm": {
     "name": "#%%\n"
    }
   }
  },
  {
   "cell_type": "code",
   "execution_count": null,
   "outputs": [],
   "source": [
    "\n"
   ],
   "metadata": {
    "collapsed": false,
    "pycharm": {
     "name": "#%%\n"
    }
   }
  },
  {
   "cell_type": "code",
   "execution_count": 37,
   "outputs": [
    {
     "data": {
      "text/plain": "<matplotlib.collections.PathCollection at 0x2023c3b8>"
     },
     "metadata": {},
     "output_type": "execute_result",
     "execution_count": 37
    },
    {
     "data": {
      "text/plain": "<Figure size 432x288 with 1 Axes>",
      "image/png": "[encoded data removed]"
     },
     "metadata": {
      "needs_background": "light"
     },
     "output_type": "display_data"
    }
   ],
   "source": [
    "\n"
   ],
   "metadata": {
    "collapsed": false,
    "pycharm": {
     "name": "#%%\n",
     "is_executing": false
    }
   }
  },
  {
   "cell_type": "code",
   "execution_count": 34,
   "outputs": [],
   "source": [
    "\n"
   ],
   "metadata": {
    "collapsed": false,
    "pycharm": {
     "name": "#%%\n",
     "is_executing": false
    }
   }
  }
 ],
 "metadata": {
  "kernelspec": {
   "display_name": "Python 3",
   "language": "python",
   "name": "python3"
  },
  "language_info": {
   "codemirror_mode": {
    "name": "ipython",
    "version": 3
   },
   "file_extension": ".py",
   "mimetype": "text/x-python",
   "name": "python",
   "nbconvert_exporter": "python",
   "pygments_lexer": "ipython3",
   "version": "3.7.3"
  }
 },
 "nbformat": 4,
 "nbformat_minor": 2
}